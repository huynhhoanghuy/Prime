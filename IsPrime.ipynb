{
  "nbformat": 4,
  "nbformat_minor": 0,
  "metadata": {
    "colab": {
      "name": "IsPrime.ipynb",
      "provenance": [],
      "collapsed_sections": [],
      "authorship_tag": "ABX9TyMELghFer8cu/o2kFzGq1Es",
      "include_colab_link": true
    },
    "kernelspec": {
      "name": "python3",
      "display_name": "Python 3"
    },
    "language_info": {
      "name": "python"
    }
  },
  "cells": [
    {
      "cell_type": "markdown",
      "metadata": {
        "id": "view-in-github",
        "colab_type": "text"
      },
      "source": [
        "<a href=\"https://colab.research.google.com/github/huynhhoanghuy/Prime/blob/main/IsPrime.ipynb\" target=\"_parent\"><img src=\"https://colab.research.google.com/assets/colab-badge.svg\" alt=\"Open In Colab\"/></a>"
      ]
    },
    {
      "cell_type": "markdown",
      "source": [
        "**Test set**"
      ],
      "metadata": {
        "id": "ckimEls1Gv2w"
      }
    },
    {
      "cell_type": "code",
      "execution_count": 12,
      "metadata": {
        "id": "FWczWtQECPPw"
      },
      "outputs": [],
      "source": [
        "test_set = [(2,1),(3,1),(4,0),(5,1),(6,0),(7,1),(8,0),(9,0)]"
      ]
    },
    {
      "cell_type": "markdown",
      "source": [
        "# AKS algorithm"
      ],
      "metadata": {
        "id": "EtB4yjABGmOW"
      }
    },
    {
      "cell_type": "code",
      "source": [
        "import math\n",
        "import array as arr\n",
        "from fractions import gcd\n",
        "\n",
        "def perfectPower(n):\n",
        "    \"\"\"Checks if number is a power of another integer, \n",
        "       if it returns true, then it is composite.\n",
        "    \"\"\"\n",
        "    for b in range(2,int(math.log2(n))+1):       \n",
        "        a=n**(1/b)\n",
        "        if a-int(a) == 0:    \n",
        "            return(True)    \n",
        "    return(False)\n",
        "\n",
        "def findR(n):\n",
        "   \"\"\"Find smallest r such that the order of n mod r > log2(n)^2.\n",
        "   \"\"\"\n",
        "   maxK = math.log2(n)**2   \n",
        "   maxR = math.log2(n)**5   \n",
        "   nexR = True              \n",
        "   r = 1                   \n",
        "   while nexR == True:\n",
        "       r +=1\n",
        "       nexR = False\n",
        "       k = 0\n",
        "       while k <= maxK and nexR == False:\n",
        "           k = k+1\n",
        "           if fastMod(n,k,r) == 0 or fastMod(n,k,r) == 1:\n",
        "               nexR = True\n",
        "   return(r)\n",
        "\n",
        "def fastMod(base,power,n):\n",
        "    \"\"\"Implement fast modular exponentiation.\n",
        "    \"\"\"\n",
        "    r=1\n",
        "    while power > 0:\n",
        "        if power % 2 == 1:\n",
        "            r = r * base % n\n",
        "        base = base**2 % n\n",
        "        power = power // 2\n",
        "    return(r)\n",
        "\n",
        "def fastPoly(base,power,r):\n",
        "    \"\"\"Use fast modular exponentiation for polynomials to raise them to a big power.\n",
        "    \"\"\"\n",
        "    x = arr.array('d',[],)\n",
        "    a = base[0]\n",
        "\n",
        "    for i in range(len(base)):\n",
        "        x.append(0)\n",
        "    x[(0)] = 1 \n",
        "    n = power\n",
        "    \n",
        "    while power > 0:\n",
        "        if power % 2 == 1: \n",
        "            x = multi(x,base,n,r)\n",
        "        base = multi(base,base,n,r)\n",
        "        power = power // 2\n",
        "\n",
        "    x[(0)] = x[(0)] - a\n",
        "    x[(n % r )] = x[(n % r )] - 1        \n",
        "    return(x)\n",
        "\n",
        "def multi(a,b,n,r):\n",
        "    \"\"\"Function used by fastPoly to multiply two polynomials together.\n",
        "    \"\"\" \n",
        "    x = arr.array('d',[])\n",
        "    for i in range(len(a)+len(b)-1):\n",
        "        x.append(0)\n",
        "    for i in range(len(a)):\n",
        "        for j in range(len(b)):\n",
        "            x[(i+j) % r ] += a[(i)] * b[(j)] \n",
        "            x[(i+j) % r] = x[(i+j) % r] % n \n",
        "    for i in range(r,len(x)):\n",
        "            x=x[:-1]\n",
        "    return(x)\n",
        "\n",
        "def eulerPhi(r):\n",
        "    \"\"\"Implement the euler phi function\n",
        "    \"\"\"\n",
        "    x = 0        \n",
        "    for i in range(1, r + 1):\n",
        "        if math.gcd(r, i) == 1:\n",
        "            x += 1\n",
        "    return x\n",
        "\n",
        "\n",
        "def aks(n):\n",
        "    \"\"\" The main AKS algorithm\n",
        "    \"\"\"\n",
        "    if perfectPower(n) == True:                     #step 1\n",
        "        return(0)\n",
        "    \n",
        "    r = findR(n)                                    #step 2\n",
        "\n",
        "    for a in range(2,min(r,n)):                     #step 3\n",
        "        if math.gcd(a,n) > 1:                       \n",
        "            return(0)\n",
        "\n",
        "    if n <= r:                                      #step 4\n",
        "        return(1)\n",
        "\n",
        "    x = arr.array('l',[],)                         #step 5\n",
        "    for a in range(1,math.floor((eulerPhi(r))**(1/2)*math.log2(n))):      \n",
        "        x = fastPoly(arr.array('l',[a,1]),n,r)\n",
        "        if  any(x):\n",
        "            return(0)\n",
        "    return(1)                                 #step 6"
      ],
      "metadata": {
        "id": "iSM3H1cJGPbv"
      },
      "execution_count": 4,
      "outputs": []
    },
    {
      "cell_type": "markdown",
      "source": [
        "\n",
        "\n",
        "*   n = 1 => Infinity Loop \n",
        "*   n <= 0 => Exception\n",
        "*   n is not int => Exception\n",
        "\n",
        "\n",
        "\n",
        "\n",
        "\n",
        "\n"
      ],
      "metadata": {
        "id": "ZmsxhdxkHspF"
      }
    },
    {
      "cell_type": "code",
      "source": [
        "aks(5)"
      ],
      "metadata": {
        "colab": {
          "base_uri": "https://localhost:8080/"
        },
        "id": "u5OO_tr-GV52",
        "outputId": "c5c1d5cf-5d44-49b0-a597-d24bf10e7506"
      },
      "execution_count": 11,
      "outputs": [
        {
          "output_type": "execute_result",
          "data": {
            "text/plain": [
              "1"
            ]
          },
          "metadata": {},
          "execution_count": 11
        }
      ]
    },
    {
      "cell_type": "code",
      "source": [
        "result = []\n",
        "for test_file, anwser_file in test_set:\n",
        "  result.append(aks(test_file) == anwser_file)\n"
      ],
      "metadata": {
        "id": "r_78kwkDHD4j"
      },
      "execution_count": 15,
      "outputs": []
    },
    {
      "cell_type": "code",
      "source": [
        "sum(result)"
      ],
      "metadata": {
        "colab": {
          "base_uri": "https://localhost:8080/"
        },
        "id": "8Yq9yKP5IVDw",
        "outputId": "6739ec34-a652-4fc3-fc4c-c3d1395635ee"
      },
      "execution_count": 18,
      "outputs": [
        {
          "output_type": "execute_result",
          "data": {
            "text/plain": [
              "8"
            ]
          },
          "metadata": {},
          "execution_count": 18
        }
      ]
    },
    {
      "cell_type": "code",
      "source": [
        "len(test_set)"
      ],
      "metadata": {
        "colab": {
          "base_uri": "https://localhost:8080/"
        },
        "id": "9e35YlqEIamt",
        "outputId": "b6aee469-4eb6-4a91-c9e8-7f143a5dc537"
      },
      "execution_count": 19,
      "outputs": [
        {
          "output_type": "execute_result",
          "data": {
            "text/plain": [
              "8"
            ]
          },
          "metadata": {},
          "execution_count": 19
        }
      ]
    },
    {
      "cell_type": "code",
      "source": [
        ""
      ],
      "metadata": {
        "id": "0NHS5UaRIhSp"
      },
      "execution_count": null,
      "outputs": []
    }
  ]
}