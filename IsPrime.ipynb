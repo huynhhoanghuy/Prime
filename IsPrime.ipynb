{
  "cells": [
    {
      "cell_type": "markdown",
      "metadata": {
        "id": "view-in-github",
        "colab_type": "text"
      },
      "source": [
        "<a href=\"https://colab.research.google.com/github/huynhhoanghuy/Prime/blob/main/IsPrime.ipynb\" target=\"_parent\"><img src=\"https://colab.research.google.com/assets/colab-badge.svg\" alt=\"Open In Colab\"/></a>"
      ]
    },
    {
      "cell_type": "markdown",
      "metadata": {
        "id": "n_6MBVgXIJfB"
      },
      "source": [
        "# Tổng quan bài toán:\n",
        "Input: Số nguyên dương n thuộc N <br>\n",
        "\n",
        "Output: True -> prime, False -> Not prime<br>\n",
        "\n",
        "Size of problem: Số bit dùng để lưu số nguyên đầu vào:<br>\n",
        "\n",
        "*Ví dụ:* số n = 2^m, nếu sử dụng thuật toán vét cạn từ 2,3,...(n-1) thì sẽ tốn 2^m phép tính.<br>\n",
        "\n",
        "Nếu sử dụng AKS thì tốn xấp xỉ  m^6 phép tính\n",
        "\n",
        "=> AKS chỉ xài khi n >= 10^9. Vì m = log2(n) = 30. Khi m >= 30 thì m^6 < 2^m.\n",
        "\n",
        "\n",
        "Thông thường duyệt 10^8 số là khoảng 1s. Nếu trên 10^9, tức là theo bruteforce sẽ trên 1s. Nên ước tính là với m = 30, theo bruteforce sẽ chạy cỡ 10s, AKS chạy cỡ 7s.\n",
        "\n",
        "=> Với m = 40, brruteforce chạy 10995s, AKS chạy 41s\n",
        "\n"
      ]
    },
    {
      "cell_type": "code",
      "execution_count": null,
      "metadata": {
        "colab": {
          "base_uri": "https://localhost:8080/",
          "height": 35
        },
        "id": "x9O-KumMDjZt",
        "outputId": "d854942a-3d35-46af-944f-c71e66b34ce5"
      },
      "outputs": [
        {
          "output_type": "execute_result",
          "data": {
            "text/plain": [
              "'64bit'"
            ],
            "application/vnd.google.colaboratory.intrinsic+json": {
              "type": "string"
            }
          },
          "metadata": {},
          "execution_count": 1
        }
      ],
      "source": [
        "import platform\n",
        "platform.architecture()[0]"
      ]
    },
    {
      "cell_type": "code",
      "execution_count": null,
      "metadata": {
        "id": "Qg1-0dgCLEPK"
      },
      "outputs": [],
      "source": [
        "import time"
      ]
    },
    {
      "cell_type": "markdown",
      "metadata": {
        "id": "ckimEls1Gv2w"
      },
      "source": [
        "**Test set**"
      ]
    },
    {
      "cell_type": "code",
      "execution_count": null,
      "metadata": {
        "id": "FWczWtQECPPw"
      },
      "outputs": [],
      "source": [
        "test_set = [(2,1),(3,1),(4,0),(5,1),(6,0),(7,1),(8,0),(9,0),(1766761309,1),(1766761310,0)]"
      ]
    },
    {
      "cell_type": "markdown",
      "metadata": {
        "id": "EtB4yjABGmOW"
      },
      "source": [
        "# AKS algorithm"
      ]
    },
    {
      "cell_type": "markdown",
      "source": [
        "Small AKS"
      ],
      "metadata": {
        "id": "M_KR9wkd58gu"
      }
    },
    {
      "cell_type": "code",
      "source": [
        "c = [0] * 100\n",
        "def coef(n):\n",
        "    c[0] = 1\n",
        "    for i in range(n):\n",
        "        c[1 + i] = 1\n",
        "        for j in range(i, 0, -1):\n",
        "            c[j] = c[j - 1] - c[j]\n",
        "        c[0] = -c[0]\n",
        "        \n",
        "        \n",
        "def isPrime(n):\n",
        "    coef(n)\n",
        "    c[0] = c[0] + 1\n",
        "    c[n] = c[n] - 1\n",
        "    i = n\n",
        "    while (i > -1 and c[i] % n == 0):\n",
        "        i = i - 1;\n",
        "    return True if i < 0 else False\n",
        "\n",
        "\n",
        "n = 67;\n",
        "if (isPrime(n)):\n",
        "    print(\"Prime\")\n",
        "else:\n",
        "    print(\"Not Prime\")"
      ],
      "metadata": {
        "colab": {
          "base_uri": "https://localhost:8080/"
        },
        "id": "bJ2yi2cG6Fkb",
        "outputId": "49b9aaf0-7a73-4da0-fc6a-bec75f5d0aa4"
      },
      "execution_count": null,
      "outputs": [
        {
          "output_type": "stream",
          "name": "stdout",
          "text": [
            "Prime\n"
          ]
        }
      ]
    },
    {
      "cell_type": "code",
      "execution_count": null,
      "metadata": {
        "id": "iSM3H1cJGPbv"
      },
      "outputs": [],
      "source": [
        "import math\n",
        "import multiprocessing\n",
        "from sys import argv\n",
        "\n",
        "\n",
        "def phi(n):\n",
        "    amount = 0\n",
        "    for k in range(1, n + 1):\n",
        "        if math.gcd(k, n) == 1:\n",
        "            amount += 1\n",
        "    return amount\n",
        "\n",
        "\n",
        "def step1(n):\n",
        "    for b in range(2, math.floor(math.log2(n) + 1)):\n",
        "        a = n ** (1 / b)\n",
        "        if a.is_integer():\n",
        "            return False\n",
        "    return True\n",
        "\n",
        "\n",
        "def step2(n):\n",
        "    mk = math.floor(math.log2(n) ** 2)\n",
        "    nexr = True\n",
        "    r = 1\n",
        "    while nexr:\n",
        "        r += 1\n",
        "        nexr = False\n",
        "        k = 0\n",
        "        while k <= mk and not nexr:\n",
        "            k = k + 1\n",
        "            if pow(n, k, r) in (0, 1):\n",
        "                nexr = True\n",
        "    return r\n",
        "\n",
        "\n",
        "def step3(n, r):\n",
        "    for a in range(1, r + 1):\n",
        "        if 1 < math.gcd(a, n) < n:\n",
        "            return False\n",
        "    return True\n",
        "\n",
        "\n",
        "def step4(n, r):\n",
        "    if n <= r:\n",
        "        #print(f\"{n} - prime. Step 4\")\n",
        "        return True\n",
        "    return False\n",
        "\n",
        "\n",
        "def step5(n, r):\n",
        "    max = math.sqrt(phi(r))\n",
        "    rn = math.floor(max * math.log2(n))\n",
        "    if rn > n:\n",
        "        rn = n\n",
        "    threads = []\n",
        "    ran = rn / 8\n",
        "    ran = math.floor(ran)\n",
        "    if ran == 0:\n",
        "        ran = 1\n",
        "\n",
        "    manager = multiprocessing.Manager()\n",
        "    return_dict = manager.dict()\n",
        "\n",
        "    for a in range(0, rn, ran):\n",
        "        process = multiprocessing.Process(\n",
        "            target=step5_check, args=(n, a, a + ran, return_dict)\n",
        "        )\n",
        "        process.start()\n",
        "        threads.append(process)\n",
        "    for i in threads:\n",
        "        i.join()\n",
        "\n",
        "    if False not in return_dict.values():\n",
        "        #print(f\"{n} - prime. Step 5\")\n",
        "        return True\n",
        "    return False\n",
        "\n",
        "\n",
        "def step5_check(n, bot, top, return_dict):\n",
        "    x = bot / (top - bot)\n",
        "    if bot == 0:\n",
        "        bot = 1\n",
        "    for a in range(bot, top):\n",
        "        b = pow(a, n, n)\n",
        "        if b - a != 0:\n",
        "            return_dict[x] = False\n",
        "            return False\n",
        "    return_dict[x] = True\n",
        "    return True\n",
        "\n",
        "\n",
        "def aks(n):\n",
        "    if step1(n):\n",
        "        r = step2(n)\n",
        "        return step3(n, r) and (step4(n, r) or step5(n, r))\n",
        "    return False\n"
      ]
    },
    {
      "cell_type": "markdown",
      "metadata": {
        "id": "ZmsxhdxkHspF"
      },
      "source": [
        "\n",
        "\n",
        "*   n = 1 => Infinity Loop \n",
        "*   n <= 0 => Exception\n",
        "*   n is not int => Exception\n",
        "\n",
        "\n",
        "\n",
        "\n",
        "\n",
        "\n"
      ]
    },
    {
      "cell_type": "code",
      "source": [
        "p = 4\n",
        "n = p*(313*(p-1)+1)*(353*(p-1)+1)\n",
        "n"
      ],
      "metadata": {
        "colab": {
          "base_uri": "https://localhost:8080/"
        },
        "id": "9LRIC4vYzsqT",
        "outputId": "32f5088b-2e44-494f-b9a2-96b473a47099"
      },
      "execution_count": null,
      "outputs": [
        {
          "output_type": "execute_result",
          "data": {
            "text/plain": [
              "3985600"
            ]
          },
          "metadata": {},
          "execution_count": 13
        }
      ]
    },
    {
      "cell_type": "code",
      "execution_count": null,
      "metadata": {
        "colab": {
          "base_uri": "https://localhost:8080/"
        },
        "id": "u5OO_tr-GV52",
        "outputId": "f67c073f-66ff-4bc0-e277-d5bed0e3a8fc"
      },
      "outputs": [
        {
          "output_type": "execute_result",
          "data": {
            "text/plain": [
              "False"
            ]
          },
          "metadata": {},
          "execution_count": 16
        }
      ],
      "source": [
        "aks(63973)"
      ]
    },
    {
      "cell_type": "code",
      "source": [
        "isPrime(63973)"
      ],
      "metadata": {
        "colab": {
          "base_uri": "https://localhost:8080/"
        },
        "id": "gob1cgvz0mjn",
        "outputId": "79292d23-16d0-4011-9aec-e4c64c901cb4"
      },
      "execution_count": null,
      "outputs": [
        {
          "output_type": "execute_result",
          "data": {
            "text/plain": [
              "False"
            ]
          },
          "metadata": {},
          "execution_count": 19
        }
      ]
    },
    {
      "cell_type": "code",
      "execution_count": null,
      "metadata": {
        "id": "r_78kwkDHD4j"
      },
      "outputs": [],
      "source": [
        "result = []\n",
        "time_dict = {}\n",
        "for test_file, anwser_file in test_set:\n",
        "  isAdded = False\n",
        "  # Mỗi bộ test sẽ chạy lại 10 lần để tính trung bình thời gian\n",
        "  for loop in range(10):\n",
        "    start_time = time.time()\n",
        "    output = aks(test_file)\n",
        "    total_time = time.time()-start_time\n",
        "    if test_file not in time_dict:\n",
        "      time_dict[test_file] = [total_time]\n",
        "    else:\n",
        "      time_dict[test_file].append(total_time)\n",
        "    if (isAdded == False): # Chi add 1 lan\n",
        "      result.append(output == anwser_file)\n",
        "      isAdded = True\n",
        "  \n"
      ]
    },
    {
      "cell_type": "code",
      "execution_count": null,
      "metadata": {
        "colab": {
          "base_uri": "https://localhost:8080/"
        },
        "id": "8Yq9yKP5IVDw",
        "outputId": "fe7a3745-2a03-4869-e522-bb65942a9288"
      },
      "outputs": [
        {
          "output_type": "execute_result",
          "data": {
            "text/plain": [
              "10"
            ]
          },
          "metadata": {},
          "execution_count": 7
        }
      ],
      "source": [
        "sum(result)"
      ]
    },
    {
      "cell_type": "code",
      "execution_count": null,
      "metadata": {
        "colab": {
          "base_uri": "https://localhost:8080/"
        },
        "id": "9e35YlqEIamt",
        "outputId": "7f60ffea-2ff2-4112-8f28-8e957b2fad93"
      },
      "outputs": [
        {
          "output_type": "execute_result",
          "data": {
            "text/plain": [
              "10"
            ]
          },
          "metadata": {},
          "execution_count": 8
        }
      ],
      "source": [
        "len(test_set)"
      ]
    },
    {
      "cell_type": "code",
      "execution_count": null,
      "metadata": {
        "colab": {
          "base_uri": "https://localhost:8080/"
        },
        "id": "0NHS5UaRIhSp",
        "outputId": "1be4bf7f-e6bf-4b2a-8b60-6494605ffdb8"
      },
      "outputs": [
        {
          "output_type": "execute_result",
          "data": {
            "text/plain": [
              "[True, True, True, True, True, True, True, True, True, True]"
            ]
          },
          "metadata": {},
          "execution_count": 9
        }
      ],
      "source": [
        "result"
      ]
    },
    {
      "cell_type": "markdown",
      "metadata": {
        "id": "-CZjtn-4Gi1C"
      },
      "source": [
        "## Cách dỏm (Brute Force fast)\n",
        "Vét cạn từ 2, 3, ..., sqrt(n)"
      ]
    },
    {
      "cell_type": "code",
      "execution_count": null,
      "metadata": {
        "id": "r1lAkmjCGSWJ"
      },
      "outputs": [],
      "source": [
        "def isPrime(n):\n",
        "    for i in range(2,int(n**0.5)+1):\n",
        "        if n%i==0:\n",
        "            return False\n",
        "        \n",
        "    return True"
      ]
    },
    {
      "cell_type": "code",
      "execution_count": null,
      "metadata": {
        "id": "a6IxNFvZGmup"
      },
      "outputs": [],
      "source": [
        "result_2 = []\n",
        "time_dict_2 = {}\n",
        "for test_file, anwser_file in test_set:\n",
        "  isAdded = False\n",
        "  # Mỗi bộ test sẽ chạy lại 10 lần để tính trung bình thời gian\n",
        "  for loop in range(10):\n",
        "    start_time = time.time()\n",
        "    output = isPrime(test_file)\n",
        "    total_time = time.time()-start_time\n",
        "    if test_file not in time_dict_2:\n",
        "      time_dict_2[test_file] = [total_time]\n",
        "    else:\n",
        "      time_dict_2[test_file].append(total_time)\n",
        "    if (isAdded == False): # Chi add 1 lan\n",
        "      result_2.append(output == anwser_file)\n",
        "      isAdded = True\n",
        "  \n"
      ]
    },
    {
      "cell_type": "code",
      "execution_count": null,
      "metadata": {
        "colab": {
          "base_uri": "https://localhost:8080/"
        },
        "id": "q9faIEdCGrdZ",
        "outputId": "e2177f58-3670-48f8-aa00-d1dadfea41b7"
      },
      "outputs": [
        {
          "output_type": "execute_result",
          "data": {
            "text/plain": [
              "10"
            ]
          },
          "metadata": {},
          "execution_count": 12
        }
      ],
      "source": [
        "sum(result_2)"
      ]
    },
    {
      "cell_type": "markdown",
      "metadata": {
        "id": "qLrdFPG2HBa1"
      },
      "source": [
        "#Cách siêu dỏm (Brute Force hay Trial Division)\n",
        "Vét cạn từ 2, 3, ..., n-1"
      ]
    },
    {
      "cell_type": "code",
      "execution_count": null,
      "metadata": {
        "id": "y_T0nS5FGtn3"
      },
      "outputs": [],
      "source": [
        "def isPrimeOld(n):\n",
        "    for i in range(2,n):\n",
        "        if n%i==0:\n",
        "            return False\n",
        "        \n",
        "    return True"
      ]
    },
    {
      "cell_type": "code",
      "execution_count": null,
      "metadata": {
        "id": "F-Fcpj-gMgZR"
      },
      "outputs": [],
      "source": [
        "result_3 = []\n",
        "time_dict_3 = {}\n",
        "for test_file, anwser_file in test_set:\n",
        "  isAdded = False\n",
        "  # Mỗi bộ test sẽ chạy lại 10 lần để tính trung bình thời gian\n",
        "  for loop in range(10):\n",
        "    start_time = time.time()\n",
        "    output = isPrimeOld(test_file)\n",
        "    total_time = time.time()-start_time\n",
        "    if test_file not in time_dict_3:\n",
        "      time_dict_3[test_file] = [total_time]\n",
        "    else:\n",
        "      time_dict_3[test_file].append(total_time)\n",
        "    if (isAdded == False): # Chi add 1 lan\n",
        "      result_3.append(output == anwser_file)\n",
        "      isAdded = True\n",
        "  \n"
      ]
    },
    {
      "cell_type": "code",
      "execution_count": null,
      "metadata": {
        "colab": {
          "base_uri": "https://localhost:8080/"
        },
        "id": "me-n9iFXMpSD",
        "outputId": "952e6919-c922-4b9f-8db1-c79d51577201"
      },
      "outputs": [
        {
          "output_type": "execute_result",
          "data": {
            "text/plain": [
              "10"
            ]
          },
          "metadata": {},
          "execution_count": 15
        }
      ],
      "source": [
        "sum(result_3)"
      ]
    },
    {
      "cell_type": "markdown",
      "metadata": {
        "id": "hVMS3-OuMqlc"
      },
      "source": [
        "# Thống kê thời gian\n",
        "Trong 10 giá trị thời gian ở mỗi bộ test, ta chỉ lấy 6 giá trị ở giữa [2,3,4,5,6,7] để đảm bảo tính ổn định"
      ]
    },
    {
      "cell_type": "code",
      "execution_count": null,
      "metadata": {
        "colab": {
          "base_uri": "https://localhost:8080/"
        },
        "id": "iqMJH-BQMyV_",
        "outputId": "60e04785-2d62-4993-a5ec-e94c1f30d01c"
      },
      "outputs": [
        {
          "output_type": "stream",
          "name": "stdout",
          "text": [
            "\t\tScalor a = 2\n",
            "AKS:  0.00035508473714192707\n",
            "BruteForce_fast:  1.3510386149088542e-06\n",
            "BruteForce_slow:  8.344650268554688e-07\n",
            "---------------------------------------------\n",
            "\t\tScalor a = 3\n",
            "AKS:  1.4185905456542969e-05\n",
            "BruteForce_fast:  1.3113021850585938e-06\n",
            "BruteForce_slow:  3.0994415283203125e-06\n",
            "---------------------------------------------\n",
            "\t\tScalor a = 4\n",
            "AKS:  2.0662943522135415e-06\n",
            "BruteForce_fast:  1.629193623860677e-06\n",
            "BruteForce_slow:  1.0331471761067708e-06\n",
            "---------------------------------------------\n",
            "\t\tScalor a = 5\n",
            "AKS:  4.291534423828125e-05\n",
            "BruteForce_fast:  1.6689300537109375e-06\n",
            "BruteForce_slow:  1.231829325358073e-06\n",
            "---------------------------------------------\n",
            "\t\tScalor a = 6\n",
            "AKS:  0.00037356217702229816\n",
            "BruteForce_fast:  1.629193623860677e-06\n",
            "BruteForce_slow:  9.5367431640625e-07\n",
            "---------------------------------------------\n",
            "\t\tScalor a = 7\n",
            "AKS:  4.267692565917969e-05\n",
            "BruteForce_fast:  1.5497207641601562e-06\n",
            "BruteForce_slow:  1.5099843343098958e-06\n",
            "---------------------------------------------\n",
            "\t\tScalor a = 8\n",
            "AKS:  2.3444493611653647e-06\n",
            "BruteForce_fast:  1.5894571940104167e-06\n",
            "BruteForce_slow:  1.0728836059570312e-06\n",
            "---------------------------------------------\n",
            "\t\tScalor a = 9\n",
            "AKS:  2.0265579223632812e-06\n",
            "BruteForce_fast:  1.708666483561198e-06\n",
            "BruteForce_slow:  1.1126200358072917e-06\n",
            "---------------------------------------------\n",
            "\t\tScalor a = 1766761309\n",
            "AKS:  0.3598748445510864\n",
            "BruteForce_fast:  0.018905083338419598\n",
            "BruteForce_slow:  245.58460728327432\n",
            "---------------------------------------------\n",
            "\t\tScalor a = 1766761310\n",
            "AKS:  0.002556761105855306\n",
            "BruteForce_fast:  1.986821492513021e-06\n",
            "BruteForce_slow:  7.947285970052084e-07\n",
            "---------------------------------------------\n"
          ]
        }
      ],
      "source": [
        "for test_file, _ in test_set:\n",
        "  print(\"\\t\\tScalor a = \" + str(test_file))\n",
        "  print(\"AKS: \", sum(time_dict[test_file][2:-2])/len(time_dict[test_file][2:-2]))\n",
        "  print(\"BruteForce_fast: \", sum(time_dict_2[test_file][2:-2])/len(time_dict_2[test_file][2:-2]))\n",
        "  print(\"BruteForce_slow: \", sum(time_dict_3[test_file][2:-2])/len(time_dict_3[test_file][2:-2]))\n",
        "  print(\"---------------------------------------------\")"
      ]
    }
  ],
  "metadata": {
    "colab": {
      "collapsed_sections": [],
      "name": "IsPrime.ipynb",
      "provenance": [],
      "include_colab_link": true
    },
    "kernelspec": {
      "display_name": "Python 3",
      "name": "python3"
    },
    "language_info": {
      "name": "python"
    }
  },
  "nbformat": 4,
  "nbformat_minor": 0
}